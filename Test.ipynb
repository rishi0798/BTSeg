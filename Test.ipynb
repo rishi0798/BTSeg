{
 "cells": [
  {
   "cell_type": "code",
   "execution_count": null,
   "metadata": {},
   "outputs": [],
   "source": [
    "import torch\n",
    "import torch.nn.functional as F\n",
    "from torchvision import transforms\n",
    "from unet import UNet\n",
    "from load_data import BRATS_test\n",
    "from utils import RandomCrop_test,ToTensor_test,DataLoader,test\n",
    "import os\n",
    "import matplotlib.pyplot as plt\n",
    "import numpy as np\n",
    "import cv2"
   ]
  },
  {
   "cell_type": "markdown",
   "metadata": {},
   "source": [
    "# Loading Weights"
   ]
  },
  {
   "cell_type": "code",
   "execution_count": null,
   "metadata": {},
   "outputs": [],
   "source": [
    "PATH = './weights/model.pth'\n",
    "device = torch.device('cuda' if torch.cuda.is_available() else 'cpu')\n",
    "model = UNet(in_channels=4,n_classes=4, padding=True, up_mode='upsample').to(device)\n",
    "state_dict = torch.load(PATH)\n",
    "in_ = model.load_state_dict(state_dict['model_state_dict'])"
   ]
  },
  {
   "cell_type": "markdown",
   "metadata": {},
   "source": [
    "# Loading Dataset"
   ]
  },
  {
   "cell_type": "code",
   "execution_count": null,
   "metadata": {},
   "outputs": [],
   "source": [
    "transformed_dataset = BRATS_test(root_dir='../BRATS/Task01_BrainTumour',\n",
    "                            transform=transforms.Compose([RandomCrop_test((228,144)),\n",
    "                                               ToTensor_test()]))\n",
    "dataloader = DataLoader(transformed_dataset, batch_size=4,\n",
    "                        shuffle=True, num_workers=4)"
   ]
  },
  {
   "cell_type": "markdown",
   "metadata": {},
   "source": [
    "# Prediction"
   ]
  },
  {
   "cell_type": "code",
   "execution_count": null,
   "metadata": {},
   "outputs": [],
   "source": [
    "pred,X = test(model,dataloader,device)\n",
    "pred1 = pred.detach().cpu().numpy()\n",
    "X1 = np.transpose(X.detach().cpu().numpy(),[0,3,2,1])"
   ]
  },
  {
   "cell_type": "code",
   "execution_count": null,
   "metadata": {},
   "outputs": [],
   "source": [
    "k = 2\n",
    "i = 2\n",
    "pred2 = pred1[i,2,:,:].T\n",
    "pred4 = pred1[i,3,:,:].T"
   ]
  },
  {
   "cell_type": "markdown",
   "metadata": {},
   "source": [
    "# Input Image 1"
   ]
  },
  {
   "cell_type": "code",
   "execution_count": null,
   "metadata": {},
   "outputs": [],
   "source": [
    "plt.imshow(np.c_[X1[i,:,:,0],X1[i,:,:,1],X1[i,:,:,2],X1[i,:,:,3]],cmap='gray')\n",
    "pred3 = cv2.morphologyEx(255*(pred2>0.5).astype('uint8'),cv2.MORPH_OPEN,kernel = np.ones([3,3],np.uint8))\n",
    "pred5 = cv2.morphologyEx(255*(pred4>0.5).astype('uint8'),cv2.MORPH_OPEN,kernel = np.ones([3,3],np.uint8))"
   ]
  },
  {
   "cell_type": "markdown",
   "metadata": {},
   "source": [
    "# Result without Post Processing (left - non enhancing, right- enhancing)"
   ]
  },
  {
   "cell_type": "code",
   "execution_count": null,
   "metadata": {},
   "outputs": [],
   "source": [
    "plt.imshow(np.c_[pred2>0.5,pred4>0.5],cmap='gray')"
   ]
  },
  {
   "cell_type": "markdown",
   "metadata": {},
   "source": [
    "# Result with Processing"
   ]
  },
  {
   "cell_type": "code",
   "execution_count": null,
   "metadata": {},
   "outputs": [],
   "source": [
    "plt.imshow(np.c_[pred3/255,pred5/255],cmap='gray')"
   ]
  },
  {
   "cell_type": "markdown",
   "metadata": {},
   "source": [
    "# Input Image 2"
   ]
  },
  {
   "cell_type": "code",
   "execution_count": null,
   "metadata": {},
   "outputs": [],
   "source": [
    "i = 1\n",
    "pred2 = pred1[i,2,:,:].T\n",
    "pred4 = pred1[i,3,:,:].T"
   ]
  },
  {
   "cell_type": "code",
   "execution_count": null,
   "metadata": {},
   "outputs": [],
   "source": [
    "plt.imshow(np.c_[X1[i,:,:,0],X1[i,:,:,1],X1[i,:,:,2],X1[i,:,:,3]],cmap='gray')\n",
    "pred3 = cv2.morphologyEx(255*(pred2>0.5).astype('uint8'),cv2.MORPH_OPEN,kernel = np.ones([3,3],np.uint8))\n",
    "pred5 = cv2.morphologyEx(255*(pred4>0.5).astype('uint8'),cv2.MORPH_OPEN,kernel = np.ones([3,3],np.uint8))"
   ]
  },
  {
   "cell_type": "markdown",
   "metadata": {},
   "source": [
    "# Result without Post Processing (left - non enhancing, right- enhancing)"
   ]
  },
  {
   "cell_type": "code",
   "execution_count": null,
   "metadata": {},
   "outputs": [],
   "source": [
    "plt.imshow(np.c_[pred2>0.5,pred4>0.5],cmap='gray')"
   ]
  },
  {
   "cell_type": "markdown",
   "metadata": {},
   "source": [
    "# Result with Processing"
   ]
  },
  {
   "cell_type": "code",
   "execution_count": null,
   "metadata": {},
   "outputs": [],
   "source": [
    "plt.imshow(np.c_[pred3/255,pred5/255],cmap='gray')"
   ]
  },
  {
   "cell_type": "code",
   "execution_count": null,
   "metadata": {},
   "outputs": [],
   "source": []
  }
 ],
 "metadata": {
  "kernelspec": {
   "display_name": "Python 3",
   "language": "python",
   "name": "python3"
  },
  "language_info": {
   "codemirror_mode": {
    "name": "ipython",
    "version": 3
   },
   "file_extension": ".py",
   "mimetype": "text/x-python",
   "name": "python",
   "nbconvert_exporter": "python",
   "pygments_lexer": "ipython3",
   "version": "3.6.8"
  }
 },
 "nbformat": 4,
 "nbformat_minor": 2
}
